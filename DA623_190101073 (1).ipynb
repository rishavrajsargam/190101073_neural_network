import numpy as np
import matplotlib.pyplot as plt
import sklearn
import sklearn.datasets
import sklearn.linear_model

from Utils import planar_utils

# Ensuring plots are displayed inline
%matplotlib inline

# Setting a seed for reproducibility
np.random.seed(1)

# Suppressing warnings
import warnings
warnings.filterwarnings('ignore')


